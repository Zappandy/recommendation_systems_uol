{
 "cells": [
  {
   "cell_type": "code",
   "execution_count": 1,
   "id": "3fbced7d",
   "metadata": {},
   "outputs": [],
   "source": [
    "import pandas as pd"
   ]
  },
  {
   "cell_type": "code",
   "execution_count": 2,
   "id": "021e15c3",
   "metadata": {},
   "outputs": [],
   "source": [
    "books = pd.read_csv('books.csv')\n",
    "reviews = pd.read_csv('reviews.csv')"
   ]
  },
  {
   "cell_type": "code",
   "execution_count": 3,
   "id": "4bcc3851",
   "metadata": {},
   "outputs": [
    {
     "data": {
      "text/plain": [
       "['language_code',\n",
       " 'text_reviews_count',\n",
       " 'average_rating',\n",
       " 'description',\n",
       " 'authors',\n",
       " 'publication_year',\n",
       " 'book_id',\n",
       " 'ratings_count',\n",
       " 'work_id',\n",
       " 'title',\n",
       " 'title_without_series',\n",
       " 'isbn',\n",
       " 'isbn13',\n",
       " 'image_url']"
      ]
     },
     "execution_count": 3,
     "metadata": {},
     "output_type": "execute_result"
    }
   ],
   "source": [
    "books.columns.tolist()"
   ]
  },
  {
   "cell_type": "code",
   "execution_count": 4,
   "id": "ca48e758",
   "metadata": {},
   "outputs": [
    {
     "data": {
      "text/plain": [
       "['user_id', 'book_id', 'review_id', 'rating', 'review_text']"
      ]
     },
     "execution_count": 4,
     "metadata": {},
     "output_type": "execute_result"
    }
   ],
   "source": [
    "reviews.columns.tolist()"
   ]
  },
  {
   "cell_type": "code",
   "execution_count": 6,
   "id": "c484bf3d",
   "metadata": {},
   "outputs": [
    {
     "data": {
      "text/plain": [
       "500"
      ]
     },
     "execution_count": 6,
     "metadata": {},
     "output_type": "execute_result"
    }
   ],
   "source": [
    "len(set(reviews.book_id.tolist()))"
   ]
  },
  {
   "cell_type": "code",
   "execution_count": 11,
   "id": "5bd0b57b",
   "metadata": {},
   "outputs": [
    {
     "data": {
      "text/plain": [
       "(500, 14)"
      ]
     },
     "execution_count": 11,
     "metadata": {},
     "output_type": "execute_result"
    }
   ],
   "source": [
    "diff = set(books.book_id.tolist()).difference(set(reviews.book_id.tolist()))\n",
    "books = books[~books['book_id'].isin(diff)]\n",
    "books.shape"
   ]
  },
  {
   "cell_type": "code",
   "execution_count": 34,
   "id": "473f1b51",
   "metadata": {},
   "outputs": [],
   "source": [
    "merged = reviews.merge(books, on=['book_id'],how='left')"
   ]
  },
  {
   "cell_type": "code",
   "execution_count": 35,
   "id": "957c5373",
   "metadata": {},
   "outputs": [
    {
     "data": {
      "text/plain": [
       "(4595, 18)"
      ]
     },
     "execution_count": 35,
     "metadata": {},
     "output_type": "execute_result"
    }
   ],
   "source": [
    "merged.shape"
   ]
  },
  {
   "cell_type": "code",
   "execution_count": 36,
   "id": "14026d9a",
   "metadata": {},
   "outputs": [
    {
     "data": {
      "text/plain": [
       "(4595, 18)"
      ]
     },
     "execution_count": 36,
     "metadata": {},
     "output_type": "execute_result"
    }
   ],
   "source": [
    "merged.shape"
   ]
  },
  {
   "cell_type": "code",
   "execution_count": 38,
   "id": "fc4a43cf",
   "metadata": {},
   "outputs": [],
   "source": [
    "books.to_csv('books.csv', index=False)\n",
    "reviews.to_csv('reviews.csv', index=False)\n",
    "merged.to_csv('merged.csv', index=False)"
   ]
  },
  {
   "cell_type": "code",
   "execution_count": null,
   "id": "33a04c07",
   "metadata": {},
   "outputs": [],
   "source": []
  }
 ],
 "metadata": {
  "kernelspec": {
   "display_name": "Python 3 (ipykernel)",
   "language": "python",
   "name": "python3"
  },
  "language_info": {
   "codemirror_mode": {
    "name": "ipython",
    "version": 3
   },
   "file_extension": ".py",
   "mimetype": "text/x-python",
   "name": "python",
   "nbconvert_exporter": "python",
   "pygments_lexer": "ipython3",
   "version": "3.10.6"
  }
 },
 "nbformat": 4,
 "nbformat_minor": 5
}
